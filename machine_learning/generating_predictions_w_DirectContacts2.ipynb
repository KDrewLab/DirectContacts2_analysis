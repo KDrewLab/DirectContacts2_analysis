version https://git-lfs.github.com/spec/v1
oid sha256:644692c35d638f95757d3edb8512b7491cd51e7613a4747e01e4858d0647b5b8
size 26246
